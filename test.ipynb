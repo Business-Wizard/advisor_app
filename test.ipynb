{
 "cells": [
  {
   "cell_type": "code",
   "execution_count": 2,
   "metadata": {},
   "outputs": [],
   "source": [
    "import pandas as pd"
   ]
  },
  {
   "cell_type": "code",
   "execution_count": 7,
   "metadata": {},
   "outputs": [],
   "source": [
    "general_pages = [\n",
    "    \"app (home)\",\n",
    "    \"screeners\",\n",
    "    # \"analysis\",\n",
    "    # \"portfolio\",\n",
    "    # \"strategy\",\n",
    "    # \"forecast\",\n",
    "    # \"backtest\",\n",
    "]\n",
    "\n",
    "# section_summary = f\"\\\n",
    "summary_1 = \"\\\n",
    "    - instructions page\"\n",
    "summary_2 = \"\\\n",
    "    - live market screeners to cover a wide net of assets \\n\\\n",
    "    - Multivariate Time Series Analysis (Consumer Confidence Index vs Industrial Production)\"\n",
    "\n",
    "summary_in_brief = [summary_1, summary_2]"
   ]
  },
  {
   "cell_type": "code",
   "execution_count": 8,
   "metadata": {},
   "outputs": [
    {
     "data": {
      "text/plain": [
       "['    - instructions page',\n",
       " '    - live market screeners to cover a wide net of assets \\n    - Multivariate Time Series Analysis (Consumer Confidence Index vs Industrial Production)']"
      ]
     },
     "execution_count": 8,
     "metadata": {},
     "output_type": "execute_result"
    }
   ],
   "source": [
    "summary_in_brief"
   ]
  },
  {
   "cell_type": "code",
   "execution_count": 10,
   "metadata": {},
   "outputs": [],
   "source": [
    "df = pd.DataFrame()\n",
    "df['sections'] = general_pages"
   ]
  },
  {
   "cell_type": "code",
   "execution_count": 11,
   "metadata": {},
   "outputs": [],
   "source": [
    "df['description'] = summary_in_brief"
   ]
  },
  {
   "cell_type": "code",
   "execution_count": 12,
   "metadata": {},
   "outputs": [
    {
     "data": {
      "text/html": [
       "<div>\n",
       "<style scoped>\n",
       "    .dataframe tbody tr th:only-of-type {\n",
       "        vertical-align: middle;\n",
       "    }\n",
       "\n",
       "    .dataframe tbody tr th {\n",
       "        vertical-align: top;\n",
       "    }\n",
       "\n",
       "    .dataframe thead th {\n",
       "        text-align: right;\n",
       "    }\n",
       "</style>\n",
       "<table border=\"1\" class=\"dataframe\">\n",
       "  <thead>\n",
       "    <tr style=\"text-align: right;\">\n",
       "      <th></th>\n",
       "      <th>sections</th>\n",
       "      <th>description</th>\n",
       "    </tr>\n",
       "  </thead>\n",
       "  <tbody>\n",
       "    <tr>\n",
       "      <th>0</th>\n",
       "      <td>app (home)</td>\n",
       "      <td>- instructions page</td>\n",
       "    </tr>\n",
       "    <tr>\n",
       "      <th>1</th>\n",
       "      <td>screeners</td>\n",
       "      <td>- live market screeners to cover a wide ne...</td>\n",
       "    </tr>\n",
       "  </tbody>\n",
       "</table>\n",
       "</div>"
      ],
      "text/plain": [
       "     sections                                        description\n",
       "0  app (home)                                - instructions page\n",
       "1   screeners      - live market screeners to cover a wide ne..."
      ]
     },
     "execution_count": 12,
     "metadata": {},
     "output_type": "execute_result"
    }
   ],
   "source": [
    "df"
   ]
  },
  {
   "cell_type": "code",
   "execution_count": 1,
   "metadata": {},
   "outputs": [],
   "source": [
    "import pandas as pd\n",
    "import finviz\n",
    "from finvizfinance.quote import finvizfinance\n",
    "from finviz import get_analyst_price_targets, get_news, get_stock\n",
    "import streamlit as st\n",
    "\n",
    "import src.tools.functions as f0"
   ]
  },
  {
   "cell_type": "code",
   "execution_count": 2,
   "metadata": {},
   "outputs": [],
   "source": [
    "class Single_Asset_Analysis(object):\n",
    "\n",
    "\n",
    "    def __init__(self):\n",
    "        self.ticker = st.sidebar.text_input(label='[3] Enter Stock', value='AAPL')\n",
    "\n",
    "\n",
    "    def run(self):\n",
    "\n",
    "        st.sidebar.write('*'*25)\n",
    "        if st.sidebar.button('Run'):\n",
    "            stock = finvizfinance(self.ticker)\n",
    "            stock_description = stock.TickerDescription()\n",
    "            outer_ratings_df = stock.TickerOuterRatings()\n",
    "            inside_trader_df = stock.TickerInsideTrader()"
   ]
  },
  {
   "cell_type": "code",
   "execution_count": 3,
   "metadata": {},
   "outputs": [],
   "source": [
    "ticker = 'AAPL'\n",
    "stock = finvizfinance(ticker)"
   ]
  },
  {
   "cell_type": "code",
   "execution_count": 5,
   "metadata": {},
   "outputs": [],
   "source": [
    "stock_description = stock.ticker_description()"
   ]
  },
  {
   "cell_type": "code",
   "execution_count": 6,
   "metadata": {},
   "outputs": [
    {
     "data": {
      "text/plain": [
       "'Apple Inc. designs, manufactures, and markets smartphones, personal computers, tablets, wearables, and accessories worldwide. It also sells various related services. In addition, the company offers iPhone, a line of smartphones; Mac, a line of personal computers; iPad, a line of multi-purpose tablets; and wearables, home, and accessories comprising AirPods, Apple TV, Apple Watch, Beats products, and HomePod. Further, it provides AppleCare support and cloud services store services; and operates various platforms, including the App Store that allow customers to discover and download applications and digital content, such as books, music, video, games, and podcasts. Additionally, the company offers various services, such as Apple Arcade, a game subscription service; Apple Fitness+, a personalized fitness service; Apple Music, which offers users a curated listening experience with on-demand radio stations; Apple News+, a subscription news and magazine service; Apple TV+, which offers exclusive original content; Apple Card, a co-branded credit card; and Apple Pay, a cashless payment service, as well as licenses its intellectual property. The company serves consumers, and small and mid-sized businesses; and the education, enterprise, and government markets. It distributes third-party applications for its products through the App Store. The company also sells its products through its retail and online stores, and direct sales force; and third-party cellular network carriers, wholesalers, retailers, and resellers. Apple Inc. was incorporated in 1977 and is headquartered in Cupertino, California.'"
      ]
     },
     "execution_count": 6,
     "metadata": {},
     "output_type": "execute_result"
    }
   ],
   "source": [
    "stock_description"
   ]
  },
  {
   "cell_type": "code",
   "execution_count": null,
   "metadata": {},
   "outputs": [],
   "source": [
    "outer_ratings_df = stock.TickerOuterRatings()\n",
    "inside_trader_df = stock.TickerInsideTrader()"
   ]
  },
  {
   "cell_type": "code",
   "execution_count": 7,
   "metadata": {},
   "outputs": [
    {
     "ename": "AttributeError",
     "evalue": "'NoneType' object has no attribute 'text'",
     "output_type": "error",
     "traceback": [
      "\u001b[0;31m---------------------------------------------------------------------------\u001b[0m",
      "\u001b[0;31mAttributeError\u001b[0m                            Traceback (most recent call last)",
      "\u001b[0;32m/tmp/ipykernel_191189/4287504285.py\u001b[0m in \u001b[0;36m<module>\u001b[0;34m\u001b[0m\n\u001b[0;32m----> 1\u001b[0;31m \u001b[0mstock\u001b[0m\u001b[0;34m.\u001b[0m\u001b[0mticker_news\u001b[0m\u001b[0;34m(\u001b[0m\u001b[0;34m)\u001b[0m\u001b[0;34m\u001b[0m\u001b[0;34m\u001b[0m\u001b[0m\n\u001b[0m",
      "\u001b[0;32m~/anaconda3/envs/roy/lib/python3.7/site-packages/finvizfinance/quote.py\u001b[0m in \u001b[0;36mticker_news\u001b[0;34m(self)\u001b[0m\n\u001b[1;32m    258\u001b[0m             \u001b[0mcols\u001b[0m \u001b[0;34m=\u001b[0m \u001b[0mrow\u001b[0m\u001b[0;34m.\u001b[0m\u001b[0mfindAll\u001b[0m\u001b[0;34m(\u001b[0m\u001b[0;34m\"td\"\u001b[0m\u001b[0;34m)\u001b[0m\u001b[0;34m\u001b[0m\u001b[0;34m\u001b[0m\u001b[0m\n\u001b[1;32m    259\u001b[0m             \u001b[0mdate\u001b[0m \u001b[0;34m=\u001b[0m \u001b[0mcols\u001b[0m\u001b[0;34m[\u001b[0m\u001b[0;36m0\u001b[0m\u001b[0;34m]\u001b[0m\u001b[0;34m.\u001b[0m\u001b[0mtext\u001b[0m\u001b[0;34m\u001b[0m\u001b[0;34m\u001b[0m\u001b[0m\n\u001b[0;32m--> 260\u001b[0;31m             \u001b[0mtitle\u001b[0m \u001b[0;34m=\u001b[0m \u001b[0mcols\u001b[0m\u001b[0;34m[\u001b[0m\u001b[0;36m1\u001b[0m\u001b[0;34m]\u001b[0m\u001b[0;34m.\u001b[0m\u001b[0ma\u001b[0m\u001b[0;34m.\u001b[0m\u001b[0mtext\u001b[0m\u001b[0;34m\u001b[0m\u001b[0;34m\u001b[0m\u001b[0m\n\u001b[0m\u001b[1;32m    261\u001b[0m             \u001b[0mlink\u001b[0m \u001b[0;34m=\u001b[0m \u001b[0mcols\u001b[0m\u001b[0;34m[\u001b[0m\u001b[0;36m1\u001b[0m\u001b[0;34m]\u001b[0m\u001b[0;34m.\u001b[0m\u001b[0ma\u001b[0m\u001b[0;34m[\u001b[0m\u001b[0;34m\"href\"\u001b[0m\u001b[0;34m]\u001b[0m\u001b[0;34m\u001b[0m\u001b[0;34m\u001b[0m\u001b[0m\n\u001b[1;32m    262\u001b[0m             \u001b[0mnews_time\u001b[0m \u001b[0;34m=\u001b[0m \u001b[0mdate\u001b[0m\u001b[0;34m.\u001b[0m\u001b[0msplit\u001b[0m\u001b[0;34m(\u001b[0m\u001b[0;34m)\u001b[0m\u001b[0;34m\u001b[0m\u001b[0;34m\u001b[0m\u001b[0m\n",
      "\u001b[0;31mAttributeError\u001b[0m: 'NoneType' object has no attribute 'text'"
     ]
    }
   ],
   "source": [
    "stock.ticker_news()"
   ]
  },
  {
   "cell_type": "code",
   "execution_count": 8,
   "metadata": {},
   "outputs": [],
   "source": [
    "from finviz import get_analyst_price_targets, get_news, get_stock"
   ]
  },
  {
   "cell_type": "code",
   "execution_count": 12,
   "metadata": {},
   "outputs": [],
   "source": [
    "from finvizfinance.quote import finvizfinance\n",
    "\n",
    "stock = finvizfinance('tsla')"
   ]
  },
  {
   "cell_type": "code",
   "execution_count": 13,
   "metadata": {},
   "outputs": [
    {
     "ename": "AttributeError",
     "evalue": "'NoneType' object has no attribute 'text'",
     "output_type": "error",
     "traceback": [
      "\u001b[0;31m---------------------------------------------------------------------------\u001b[0m",
      "\u001b[0;31mAttributeError\u001b[0m                            Traceback (most recent call last)",
      "\u001b[0;32m/tmp/ipykernel_191189/4287504285.py\u001b[0m in \u001b[0;36m<module>\u001b[0;34m\u001b[0m\n\u001b[0;32m----> 1\u001b[0;31m \u001b[0mstock\u001b[0m\u001b[0;34m.\u001b[0m\u001b[0mticker_news\u001b[0m\u001b[0;34m(\u001b[0m\u001b[0;34m)\u001b[0m\u001b[0;34m\u001b[0m\u001b[0;34m\u001b[0m\u001b[0m\n\u001b[0m",
      "\u001b[0;32m~/anaconda3/envs/roy/lib/python3.7/site-packages/finvizfinance/quote.py\u001b[0m in \u001b[0;36mticker_news\u001b[0;34m(self)\u001b[0m\n\u001b[1;32m    258\u001b[0m             \u001b[0mcols\u001b[0m \u001b[0;34m=\u001b[0m \u001b[0mrow\u001b[0m\u001b[0;34m.\u001b[0m\u001b[0mfindAll\u001b[0m\u001b[0;34m(\u001b[0m\u001b[0;34m\"td\"\u001b[0m\u001b[0;34m)\u001b[0m\u001b[0;34m\u001b[0m\u001b[0;34m\u001b[0m\u001b[0m\n\u001b[1;32m    259\u001b[0m             \u001b[0mdate\u001b[0m \u001b[0;34m=\u001b[0m \u001b[0mcols\u001b[0m\u001b[0;34m[\u001b[0m\u001b[0;36m0\u001b[0m\u001b[0;34m]\u001b[0m\u001b[0;34m.\u001b[0m\u001b[0mtext\u001b[0m\u001b[0;34m\u001b[0m\u001b[0;34m\u001b[0m\u001b[0m\n\u001b[0;32m--> 260\u001b[0;31m             \u001b[0mtitle\u001b[0m \u001b[0;34m=\u001b[0m \u001b[0mcols\u001b[0m\u001b[0;34m[\u001b[0m\u001b[0;36m1\u001b[0m\u001b[0;34m]\u001b[0m\u001b[0;34m.\u001b[0m\u001b[0ma\u001b[0m\u001b[0;34m.\u001b[0m\u001b[0mtext\u001b[0m\u001b[0;34m\u001b[0m\u001b[0;34m\u001b[0m\u001b[0m\n\u001b[0m\u001b[1;32m    261\u001b[0m             \u001b[0mlink\u001b[0m \u001b[0;34m=\u001b[0m \u001b[0mcols\u001b[0m\u001b[0;34m[\u001b[0m\u001b[0;36m1\u001b[0m\u001b[0;34m]\u001b[0m\u001b[0;34m.\u001b[0m\u001b[0ma\u001b[0m\u001b[0;34m[\u001b[0m\u001b[0;34m\"href\"\u001b[0m\u001b[0;34m]\u001b[0m\u001b[0;34m\u001b[0m\u001b[0;34m\u001b[0m\u001b[0m\n\u001b[1;32m    262\u001b[0m             \u001b[0mnews_time\u001b[0m \u001b[0;34m=\u001b[0m \u001b[0mdate\u001b[0m\u001b[0;34m.\u001b[0m\u001b[0msplit\u001b[0m\u001b[0;34m(\u001b[0m\u001b[0;34m)\u001b[0m\u001b[0;34m\u001b[0m\u001b[0;34m\u001b[0m\u001b[0m\n",
      "\u001b[0;31mAttributeError\u001b[0m: 'NoneType' object has no attribute 'text'"
     ]
    }
   ],
   "source": [
    "stock.ticker_news()"
   ]
  },
  {
   "cell_type": "code",
   "execution_count": 18,
   "metadata": {},
   "outputs": [
    {
     "name": "stdout",
     "output_type": "stream",
     "text": [
      "Getting data for AAPL...\n",
      "\n"
     ]
    }
   ],
   "source": [
    "\n",
    "import pandas as pd\n",
    "import numpy as np\n",
    "from bs4 import BeautifulSoup as soup\n",
    "from urllib.request import Request, urlopen\n",
    "\n",
    "pd.set_option('display.max_colwidth', 25)\n",
    "\n",
    "# Input\n",
    "symbol = 'AAPL'\n",
    "print ('Getting data for ' + symbol + '...\\n')\n",
    "\n",
    "# Set up scraper\n",
    "url = (\"http://finviz.com/quote.ashx?t=\" + symbol.lower())\n",
    "req = Request(url, headers={'User-Agent': 'Mozilla/5.0'})\n",
    "webpage = urlopen(req).read()\n",
    "html = soup(webpage, \"html.parser\")"
   ]
  },
  {
   "cell_type": "code",
   "execution_count": 46,
   "metadata": {},
   "outputs": [
    {
     "data": {
      "text/html": [
       "<div>\n",
       "<style scoped>\n",
       "    .dataframe tbody tr th:only-of-type {\n",
       "        vertical-align: middle;\n",
       "    }\n",
       "\n",
       "    .dataframe tbody tr th {\n",
       "        vertical-align: top;\n",
       "    }\n",
       "\n",
       "    .dataframe thead th {\n",
       "        text-align: right;\n",
       "    }\n",
       "</style>\n",
       "<table border=\"1\" class=\"dataframe\">\n",
       "  <thead>\n",
       "    <tr style=\"text-align: right;\">\n",
       "      <th></th>\n",
       "      <th>ticker</th>\n",
       "      <th>date</th>\n",
       "      <th>title</th>\n",
       "      <th>source</th>\n",
       "      <th>link</th>\n",
       "    </tr>\n",
       "  </thead>\n",
       "  <tbody>\n",
       "    <tr>\n",
       "      <th>0</th>\n",
       "      <td>AAPL</td>\n",
       "      <td>2023-01-23 00:00:00</td>\n",
       "      <td>Big Tech Layoffs; Sig...</td>\n",
       "      <td>finance.yahoo.com</td>\n",
       "      <td>https://finance.yahoo...</td>\n",
       "    </tr>\n",
       "    <tr>\n",
       "      <th>1</th>\n",
       "      <td>AAPL</td>\n",
       "      <td>2023-01-23 19:28:00</td>\n",
       "      <td>Dow Jones Rallies 250...</td>\n",
       "      <td>finance.yahoo.com</td>\n",
       "      <td>https://finance.yahoo...</td>\n",
       "    </tr>\n",
       "    <tr>\n",
       "      <th>2</th>\n",
       "      <td>AAPL</td>\n",
       "      <td>2023-01-23 17:18:00</td>\n",
       "      <td>25 Largest Privately ...</td>\n",
       "      <td>finance.yahoo.com</td>\n",
       "      <td>https://finance.yahoo...</td>\n",
       "    </tr>\n",
       "    <tr>\n",
       "      <th>3</th>\n",
       "      <td>AAPL</td>\n",
       "      <td>2023-01-23 16:09:00</td>\n",
       "      <td>Apple reportedly to d...</td>\n",
       "      <td>finance.yahoo.com</td>\n",
       "      <td>https://finance.yahoo...</td>\n",
       "    </tr>\n",
       "    <tr>\n",
       "      <th>4</th>\n",
       "      <td>AAPL</td>\n",
       "      <td>2023-01-23 15:10:00</td>\n",
       "      <td>Why Apple Stock Was C...</td>\n",
       "      <td>finance.yahoo.com</td>\n",
       "      <td>https://finance.yahoo...</td>\n",
       "    </tr>\n",
       "    <tr>\n",
       "      <th>5</th>\n",
       "      <td>AAPL</td>\n",
       "      <td>2023-01-23 14:48:00</td>\n",
       "      <td>Apple in talks with D...</td>\n",
       "      <td>finance.yahoo.com</td>\n",
       "      <td>https://finance.yahoo...</td>\n",
       "    </tr>\n",
       "    <tr>\n",
       "      <th>6</th>\n",
       "      <td>AAPL</td>\n",
       "      <td>2023-01-23 13:50:00</td>\n",
       "      <td>The big banks want to...</td>\n",
       "      <td>finance.yahoo.com</td>\n",
       "      <td>https://finance.yahoo...</td>\n",
       "    </tr>\n",
       "    <tr>\n",
       "      <th>7</th>\n",
       "      <td>AAPL</td>\n",
       "      <td>2023-01-23 13:27:00</td>\n",
       "      <td>How Apples Upcoming M...</td>\n",
       "      <td>finance.yahoo.com</td>\n",
       "      <td>https://finance.yahoo...</td>\n",
       "    </tr>\n",
       "    <tr>\n",
       "      <th>8</th>\n",
       "      <td>AAPL</td>\n",
       "      <td>2023-01-23 12:29:00</td>\n",
       "      <td>Apple, Disney, Salesf...</td>\n",
       "      <td>finance.yahoo.com</td>\n",
       "      <td>https://finance.yahoo...</td>\n",
       "    </tr>\n",
       "    <tr>\n",
       "      <th>9</th>\n",
       "      <td>AAPL</td>\n",
       "      <td>2023-01-23 12:15:00</td>\n",
       "      <td>Big Banks Are Coming ...</td>\n",
       "      <td>finance.yahoo.com</td>\n",
       "      <td>https://finance.yahoo...</td>\n",
       "    </tr>\n",
       "    <tr>\n",
       "      <th>10</th>\n",
       "      <td>AAPL</td>\n",
       "      <td>2023-01-23 12:10:00</td>\n",
       "      <td>Why Apple (AAPL) is P...</td>\n",
       "      <td>finance.yahoo.com</td>\n",
       "      <td>https://finance.yahoo...</td>\n",
       "    </tr>\n",
       "    <tr>\n",
       "      <th>11</th>\n",
       "      <td>AAPL</td>\n",
       "      <td>2023-01-23 12:00:00</td>\n",
       "      <td>Stock Market Recovery...</td>\n",
       "      <td>finance.yahoo.com</td>\n",
       "      <td>https://finance.yahoo...</td>\n",
       "    </tr>\n",
       "    <tr>\n",
       "      <th>12</th>\n",
       "      <td>AAPL</td>\n",
       "      <td>2023-01-23 11:01:00</td>\n",
       "      <td>Why Buying This FAANG...</td>\n",
       "      <td>finance.yahoo.com</td>\n",
       "      <td>https://finance.yahoo...</td>\n",
       "    </tr>\n",
       "  </tbody>\n",
       "</table>\n",
       "</div>"
      ],
      "text/plain": [
       "   ticker                date                     title             source  \\\n",
       "0    AAPL 2023-01-23 00:00:00  Big Tech Layoffs; Sig...  finance.yahoo.com   \n",
       "1    AAPL 2023-01-23 19:28:00  Dow Jones Rallies 250...  finance.yahoo.com   \n",
       "2    AAPL 2023-01-23 17:18:00  25 Largest Privately ...  finance.yahoo.com   \n",
       "3    AAPL 2023-01-23 16:09:00  Apple reportedly to d...  finance.yahoo.com   \n",
       "4    AAPL 2023-01-23 15:10:00  Why Apple Stock Was C...  finance.yahoo.com   \n",
       "5    AAPL 2023-01-23 14:48:00  Apple in talks with D...  finance.yahoo.com   \n",
       "6    AAPL 2023-01-23 13:50:00  The big banks want to...  finance.yahoo.com   \n",
       "7    AAPL 2023-01-23 13:27:00  How Apples Upcoming M...  finance.yahoo.com   \n",
       "8    AAPL 2023-01-23 12:29:00  Apple, Disney, Salesf...  finance.yahoo.com   \n",
       "9    AAPL 2023-01-23 12:15:00  Big Banks Are Coming ...  finance.yahoo.com   \n",
       "10   AAPL 2023-01-23 12:10:00  Why Apple (AAPL) is P...  finance.yahoo.com   \n",
       "11   AAPL 2023-01-23 12:00:00  Stock Market Recovery...  finance.yahoo.com   \n",
       "12   AAPL 2023-01-23 11:01:00  Why Buying This FAANG...  finance.yahoo.com   \n",
       "\n",
       "                        link  \n",
       "0   https://finance.yahoo...  \n",
       "1   https://finance.yahoo...  \n",
       "2   https://finance.yahoo...  \n",
       "3   https://finance.yahoo...  \n",
       "4   https://finance.yahoo...  \n",
       "5   https://finance.yahoo...  \n",
       "6   https://finance.yahoo...  \n",
       "7   https://finance.yahoo...  \n",
       "8   https://finance.yahoo...  \n",
       "9   https://finance.yahoo...  \n",
       "10  https://finance.yahoo...  \n",
       "11  https://finance.yahoo...  \n",
       "12  https://finance.yahoo...  "
      ]
     },
     "execution_count": 46,
     "metadata": {},
     "output_type": "execute_result"
    }
   ],
   "source": [
    "from bs4 import BeautifulSoup\n",
    "from urllib.request import urlopen, Request\n",
    "from nltk.sentiment.vader import SentimentIntensityAnalyzer\n",
    "from newspaper import Article, Config\n",
    "user_agent = 'Mozilla/5.0 (Macintosh; Intel Mac OS X 10.15; rv:78.0) Gecko/20100101 Firefox/78.0'\n",
    "config = Config()\n",
    "config.browser_user_agent = user_agent\n",
    "config.request_timeout = 10\n",
    "\n",
    "parsed_news=[]\n",
    "new_stock_list=[]\n",
    "pull_list=[]\n",
    "bad_stocks=[]\n",
    "news_tables={}\n",
    "n=14\n",
    "\n",
    "\n",
    "url = 'https://finviz.com/quote.ashx?t=' + ticker\n",
    "req = Request(url=url,headers={'user-agent': 'Mozilla/5.0 (Macintosh; Intel Mac OS X 10.15; rv:78.0) Gecko/20100101 Firefox/78.0'}) \n",
    "resp = urlopen(req)    \n",
    "html = BeautifulSoup(resp, features=\"lxml\")\n",
    "news_table = html.find(id='news-table')\n",
    "news_tables[ticker] = news_table\n",
    "new_stock_list.append(ticker)\n",
    "# print(f\"({c}) [{ticker}] - DATA SOURCED\")\n",
    "\n",
    "for file_name, news_table in news_tables.items():\n",
    "    try:\n",
    "        rows = news_table.findAll(\"tr\")\n",
    "        rows = rows[:n]\n",
    "        for row in rows:\n",
    "            cols = row.findAll(\"td\")\n",
    "            try:\n",
    "                ticker = file_name.split('_')[0]\n",
    "                date = cols[0].text.split()[0]\n",
    "                title = cols[1].get_text()\n",
    "                link = cols[1].a['href']\n",
    "                source = link.split(\"/\")[2]          \n",
    "                if source == \"feedproxy.google.com\":\n",
    "                    source = link.split(\"/\")[4]\n",
    "                info_dict = {\n",
    "                    \"Ticker\": ticker,\n",
    "                    \"Date\": date, \n",
    "                    \"Title\": title, \n",
    "                    \"Source\": source, \n",
    "                    \"Link\": link\n",
    "                    }\n",
    "                parsed_news.append(info_dict)\n",
    "            except Exception:\n",
    "                pass\n",
    "    except Exception as e:\n",
    "        print(e)\n",
    "        pass            \n",
    "    \n",
    "parsed_news_df = pd.DataFrame(parsed_news)\n",
    "parsed_news_df.columns = [x.lower() for x in parsed_news_df.columns]\n",
    "parsed_news_df['date'] = pd.to_datetime(parsed_news_df['date'])\n",
    "parsed_news_df = parsed_news_df[parsed_news_df['date'] >= pd.Timestamp('2022-06-01')]        \n",
    "\n",
    "parsed_news_df"
   ]
  },
  {
   "cell_type": "code",
   "execution_count": 27,
   "metadata": {},
   "outputs": [],
   "source": [
    "def get_news():\n",
    "    # try:\n",
    "        # Find news table\n",
    "    news = pd.read_html(str(html), attrs = {'class': 'fullview-news-outer'})[0]\n",
    "    links = []\n",
    "    for a in html.find_all('a', class_=\"tab-link-news\"):\n",
    "        links.append(a['href'])\n",
    "    \n",
    "    # Clean up news dataframe\n",
    "    # news.columns = ['Date', 'News Headline']\n",
    "    # news['Article Link'] = links\n",
    "    # news = news.set_index('Date')\n",
    "    return news\n",
    "\n",
    "    # except Exception as e:\n",
    "    #     return e"
   ]
  },
  {
   "cell_type": "code",
   "execution_count": 28,
   "metadata": {},
   "outputs": [
    {
     "data": {
      "text/html": [
       "<div>\n",
       "<style scoped>\n",
       "    .dataframe tbody tr th:only-of-type {\n",
       "        vertical-align: middle;\n",
       "    }\n",
       "\n",
       "    .dataframe tbody tr th {\n",
       "        vertical-align: top;\n",
       "    }\n",
       "\n",
       "    .dataframe thead th {\n",
       "        text-align: right;\n",
       "    }\n",
       "</style>\n",
       "<table border=\"1\" class=\"dataframe\">\n",
       "  <thead>\n",
       "    <tr style=\"text-align: right;\">\n",
       "      <th></th>\n",
       "      <th>0</th>\n",
       "      <th>1</th>\n",
       "    </tr>\n",
       "  </thead>\n",
       "  <tbody>\n",
       "    <tr>\n",
       "      <th>0</th>\n",
       "      <td>Jan-23-23 07:28PM</td>\n",
       "      <td>Dow Jones Rallies 250...</td>\n",
       "    </tr>\n",
       "    <tr>\n",
       "      <th>1</th>\n",
       "      <td>05:18PM</td>\n",
       "      <td>25 Largest Privately ...</td>\n",
       "    </tr>\n",
       "    <tr>\n",
       "      <th>2</th>\n",
       "      <td>04:09PM</td>\n",
       "      <td>Apple reportedly to d...</td>\n",
       "    </tr>\n",
       "    <tr>\n",
       "      <th>3</th>\n",
       "      <td>03:10PM</td>\n",
       "      <td>Why Apple Stock Was C...</td>\n",
       "    </tr>\n",
       "    <tr>\n",
       "      <th>4</th>\n",
       "      <td>02:48PM</td>\n",
       "      <td>Apple in talks with D...</td>\n",
       "    </tr>\n",
       "    <tr>\n",
       "      <th>...</th>\n",
       "      <td>...</td>\n",
       "      <td>...</td>\n",
       "    </tr>\n",
       "    <tr>\n",
       "      <th>98</th>\n",
       "      <td>08:54AM</td>\n",
       "      <td>Spotify joins media f...</td>\n",
       "    </tr>\n",
       "    <tr>\n",
       "      <th>99</th>\n",
       "      <td>08:27AM</td>\n",
       "      <td>Apple Wants to Play i...</td>\n",
       "    </tr>\n",
       "    <tr>\n",
       "      <th>100</th>\n",
       "      <td>08:15AM</td>\n",
       "      <td>2 Top Stocks to Buy i...</td>\n",
       "    </tr>\n",
       "    <tr>\n",
       "      <th>101</th>\n",
       "      <td>06:39AM</td>\n",
       "      <td>3 Reasons to Buy The ...</td>\n",
       "    </tr>\n",
       "    <tr>\n",
       "      <th>102</th>\n",
       "      <td>06:31AM</td>\n",
       "      <td>3 Stocks to Buy if Th...</td>\n",
       "    </tr>\n",
       "  </tbody>\n",
       "</table>\n",
       "<p>103 rows × 2 columns</p>\n",
       "</div>"
      ],
      "text/plain": [
       "                     0                         1\n",
       "0    Jan-23-23 07:28PM  Dow Jones Rallies 250...\n",
       "1              05:18PM  25 Largest Privately ...\n",
       "2              04:09PM  Apple reportedly to d...\n",
       "3              03:10PM  Why Apple Stock Was C...\n",
       "4              02:48PM  Apple in talks with D...\n",
       "..                 ...                       ...\n",
       "98             08:54AM  Spotify joins media f...\n",
       "99             08:27AM  Apple Wants to Play i...\n",
       "100            08:15AM  2 Top Stocks to Buy i...\n",
       "101            06:39AM  3 Reasons to Buy The ...\n",
       "102            06:31AM  3 Stocks to Buy if Th...\n",
       "\n",
       "[103 rows x 2 columns]"
      ]
     },
     "execution_count": 28,
     "metadata": {},
     "output_type": "execute_result"
    }
   ],
   "source": [
    "get_news()"
   ]
  },
  {
   "cell_type": "code",
   "execution_count": 47,
   "metadata": {},
   "outputs": [],
   "source": [
    "import yfinance as yf"
   ]
  },
  {
   "cell_type": "code",
   "execution_count": 50,
   "metadata": {},
   "outputs": [],
   "source": [
    "stock = yf.Ticker('AAPL')\n",
    "info = stock.info"
   ]
  },
  {
   "cell_type": "code",
   "execution_count": 51,
   "metadata": {},
   "outputs": [
    {
     "data": {
      "text/plain": [
       "{'regularMarketPrice': None, 'preMarketPrice': None, 'logo_url': ''}"
      ]
     },
     "execution_count": 51,
     "metadata": {},
     "output_type": "execute_result"
    }
   ],
   "source": [
    "info"
   ]
  },
  {
   "cell_type": "code",
   "execution_count": null,
   "metadata": {},
   "outputs": [],
   "source": []
  }
 ],
 "metadata": {
  "kernelspec": {
   "display_name": "Python 3.7.7 ('base')",
   "language": "python",
   "name": "python3"
  },
  "language_info": {
   "codemirror_mode": {
    "name": "ipython",
    "version": 3
   },
   "file_extension": ".py",
   "mimetype": "text/x-python",
   "name": "python",
   "nbconvert_exporter": "python",
   "pygments_lexer": "ipython3",
   "version": "3.7.7"
  },
  "orig_nbformat": 4,
  "vscode": {
   "interpreter": {
    "hash": "3d77fb98bc974d9140e1d63aa372f5a172212fa8a9aef6a9ab24d898563ca3b3"
   }
  }
 },
 "nbformat": 4,
 "nbformat_minor": 2
}
