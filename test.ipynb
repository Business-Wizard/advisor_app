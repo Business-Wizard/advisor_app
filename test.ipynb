{
 "cells": [
  {
   "cell_type": "code",
   "execution_count": 2,
   "metadata": {},
   "outputs": [],
   "source": [
    "import pandas as pd"
   ]
  },
  {
   "cell_type": "code",
   "execution_count": 7,
   "metadata": {},
   "outputs": [],
   "source": [
    "general_pages = [\n",
    "    \"app (home)\",\n",
    "    \"screeners\",\n",
    "    # \"analysis\",\n",
    "    # \"portfolio\",\n",
    "    # \"strategy\",\n",
    "    # \"forecast\",\n",
    "    # \"backtest\",\n",
    "]\n",
    "\n",
    "# section_summary = f\"\\\n",
    "summary_1 = \"\\\n",
    "    - instructions page\"\n",
    "summary_2 = \"\\\n",
    "    - live market screeners to cover a wide net of assets \\n\\\n",
    "    - Multivariate Time Series Analysis (Consumer Confidence Index vs Industrial Production)\"\n",
    "\n",
    "summary_in_brief = [summary_1, summary_2]"
   ]
  },
  {
   "cell_type": "code",
   "execution_count": 8,
   "metadata": {},
   "outputs": [
    {
     "data": {
      "text/plain": [
       "['    - instructions page',\n",
       " '    - live market screeners to cover a wide net of assets \\n    - Multivariate Time Series Analysis (Consumer Confidence Index vs Industrial Production)']"
      ]
     },
     "execution_count": 8,
     "metadata": {},
     "output_type": "execute_result"
    }
   ],
   "source": [
    "summary_in_brief"
   ]
  },
  {
   "cell_type": "code",
   "execution_count": 10,
   "metadata": {},
   "outputs": [],
   "source": [
    "df = pd.DataFrame()\n",
    "df['sections'] = general_pages"
   ]
  },
  {
   "cell_type": "code",
   "execution_count": 11,
   "metadata": {},
   "outputs": [],
   "source": [
    "df['description'] = summary_in_brief"
   ]
  },
  {
   "cell_type": "code",
   "execution_count": 12,
   "metadata": {},
   "outputs": [
    {
     "data": {
      "text/html": [
       "<div>\n",
       "<style scoped>\n",
       "    .dataframe tbody tr th:only-of-type {\n",
       "        vertical-align: middle;\n",
       "    }\n",
       "\n",
       "    .dataframe tbody tr th {\n",
       "        vertical-align: top;\n",
       "    }\n",
       "\n",
       "    .dataframe thead th {\n",
       "        text-align: right;\n",
       "    }\n",
       "</style>\n",
       "<table border=\"1\" class=\"dataframe\">\n",
       "  <thead>\n",
       "    <tr style=\"text-align: right;\">\n",
       "      <th></th>\n",
       "      <th>sections</th>\n",
       "      <th>description</th>\n",
       "    </tr>\n",
       "  </thead>\n",
       "  <tbody>\n",
       "    <tr>\n",
       "      <th>0</th>\n",
       "      <td>app (home)</td>\n",
       "      <td>- instructions page</td>\n",
       "    </tr>\n",
       "    <tr>\n",
       "      <th>1</th>\n",
       "      <td>screeners</td>\n",
       "      <td>- live market screeners to cover a wide ne...</td>\n",
       "    </tr>\n",
       "  </tbody>\n",
       "</table>\n",
       "</div>"
      ],
      "text/plain": [
       "     sections                                        description\n",
       "0  app (home)                                - instructions page\n",
       "1   screeners      - live market screeners to cover a wide ne..."
      ]
     },
     "execution_count": 12,
     "metadata": {},
     "output_type": "execute_result"
    }
   ],
   "source": [
    "df"
   ]
  },
  {
   "cell_type": "code",
   "execution_count": null,
   "metadata": {},
   "outputs": [],
   "source": []
  }
 ],
 "metadata": {
  "kernelspec": {
   "display_name": "Python 3.7.7 ('base')",
   "language": "python",
   "name": "python3"
  },
  "language_info": {
   "codemirror_mode": {
    "name": "ipython",
    "version": 3
   },
   "file_extension": ".py",
   "mimetype": "text/x-python",
   "name": "python",
   "nbconvert_exporter": "python",
   "pygments_lexer": "ipython3",
   "version": "3.7.7"
  },
  "orig_nbformat": 4,
  "vscode": {
   "interpreter": {
    "hash": "3d77fb98bc974d9140e1d63aa372f5a172212fa8a9aef6a9ab24d898563ca3b3"
   }
  }
 },
 "nbformat": 4,
 "nbformat_minor": 2
}
